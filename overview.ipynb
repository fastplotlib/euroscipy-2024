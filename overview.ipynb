{
 "cells": [
  {
   "cell_type": "markdown",
   "id": "93740a09-9111-4777-ad57-173e9b80a2f0",
   "metadata": {
    "tags": []
   },
   "source": [
    "# Introduction to `fastplotlib` 🚀\n",
    "\n",
    "This notebook goes through the basic components of the `fastplotlib` API, image, line, scatter plots, subplots and simple animations"
   ]
  },
  {
   "cell_type": "markdown",
   "id": "ae07272b-e94b-4262-b486-6b3ddac63038",
   "metadata": {},
   "source": [
    "**The example images are from `imageio` so you will need to install it for this example notebook. But `imageio` is not required to use `fasptlotlib`**"
   ]
  },
  {
   "cell_type": "code",
   "execution_count": null,
   "id": "6674c90b-bfe3-4a71-ab7d-21e9cc03c050",
   "metadata": {
    "tags": []
   },
   "outputs": [],
   "source": [
    "!pip install imageio"
   ]
  },
  {
   "cell_type": "code",
   "execution_count": null,
   "id": "5c50e177-5800-4e19-a4f6-d0e0a082e4cd",
   "metadata": {
    "is_executing": true,
    "tags": []
   },
   "outputs": [],
   "source": [
    "import imageio.v3 as iio"
   ]
  },
  {
   "cell_type": "code",
   "execution_count": null,
   "id": "fb57c3d3-f20d-4d88-9e7a-04b9309bc637",
   "metadata": {
    "tags": []
   },
   "outputs": [],
   "source": [
    "import numpy as np\n",
    "import fastplotlib as fpl\n",
    "\n",
    "from ipywidgets import HBox\n",
    "from pprint import pprint"
   ]
  },
  {
   "cell_type": "markdown",
   "id": "a9b386ac-9218-4f8f-97b3-f29b4201ef55",
   "metadata": {},
   "source": [
    "## Simple image\n",
    "\n",
    "We are going to be using `jupyterlab-sidecar` to render some of the plots on the side. This makes it very easy to interact with your plots without having to constantly scroll up and down :D"
   ]
  },
  {
   "cell_type": "code",
   "execution_count": null,
   "id": "237823b7-e2c0-4e2f-9ee8-e3fc2b4453c4",
   "metadata": {
    "tags": []
   },
   "outputs": [],
   "source": [
    "# create a `Figure` instance\n",
    "# by default the figure will have 1 subplot\n",
    "fig = fpl.Figure()\n",
    "\n",
    "# get a grayscale image\n",
    "image_data = iio.imread(\"imageio:camera.png\")\n",
    "\n",
    "# plot the image data\n",
    "image_graphic = fig[0, 0].add_image(data=image_data, name=\"sample-image\")\n",
    "\n",
    "# show the plot\n",
    "fig.show(sidecar=True)"
   ]
  },
  {
   "cell_type": "markdown",
   "id": "be5b408f-dd91-4e36-807a-8c22c8d7d216",
   "metadata": {},
   "source": [
    "**Use the handle on the bottom right corner of the _canvas_ to resize it. You can also pan and zoom using your mouse!**"
   ]
  },
  {
   "cell_type": "markdown",
   "id": "7c3b637c-a26b-416e-936c-705275852a8a",
   "metadata": {},
   "source": [
    "### Changing graphic properties"
   ]
  },
  {
   "cell_type": "code",
   "execution_count": null,
   "id": "de816c88-1c4a-4071-8a5e-c46c93671ef5",
   "metadata": {
    "tags": []
   },
   "outputs": [],
   "source": [
    "image_graphic.cmap = \"gray\""
   ]
  },
  {
   "cell_type": "markdown",
   "id": "da1efe85-c5b8-42e8-ae81-6cbddccc30f7",
   "metadata": {},
   "source": [
    "**Some properties, such as `data` support slicing!**\n",
    "\n",
    "Out image data is of shape [n_rows, n_cols]"
   ]
  },
  {
   "cell_type": "code",
   "execution_count": null,
   "id": "a04afe48-5534-4ef6-a159-f6e6a4337d8d",
   "metadata": {
    "tags": []
   },
   "outputs": [],
   "source": [
    "# many graphic properties behave like arrays\n",
    "# access the underlying array using .value\n",
    "image_graphic.data.value.shape"
   ]
  },
  {
   "cell_type": "code",
   "execution_count": null,
   "id": "8bc007b1-19f2-439e-aaf6-b2765bc34859",
   "metadata": {},
   "outputs": [],
   "source": [
    "# Get a view of the buffer\n",
    "\n",
    "image_graphic.data[10:20, :5]"
   ]
  },
  {
   "cell_type": "code",
   "execution_count": null,
   "id": "83b2db1b-2783-4e89-bcf3-66bb6e09e18a",
   "metadata": {
    "tags": []
   },
   "outputs": [],
   "source": [
    "# set data, behaves just like a numpy array\n",
    "\n",
    "image_graphic.data[::15, :] = 1\n",
    "image_graphic.data[:, ::15] = 1"
   ]
  },
  {
   "cell_type": "markdown",
   "id": "135db5d2-53fb-4d50-8164-2c1f00560c25",
   "metadata": {},
   "source": [
    "**Fancy indexing!**"
   ]
  },
  {
   "cell_type": "code",
   "execution_count": null,
   "id": "a89120eb-108b-4df3-8d3f-8192c9315aa6",
   "metadata": {
    "tags": []
   },
   "outputs": [],
   "source": [
    "image_graphic.data[image_data > 100] = 255"
   ]
  },
  {
   "cell_type": "markdown",
   "id": "beb76ee3-f975-4a4b-8aa0-1f470e4c8145",
   "metadata": {},
   "source": [
    "## Events"
   ]
  },
  {
   "cell_type": "code",
   "execution_count": null,
   "id": "ede73c4c-bce0-4d6b-a410-c896eb85d1b6",
   "metadata": {},
   "outputs": [],
   "source": [
    "@image_graphic.add_event_handler(\"click\")\n",
    "def add_point(ev):\n",
    "    x, y = ev.pick_info[\"index\"]\n",
    "    point = np.array([[x, y]])\n",
    "    fig[0, 0].add_scatter(point, colors=\"r\", sizes=20)"
   ]
  },
  {
   "cell_type": "code",
   "execution_count": null,
   "id": "42846d3b-9ba6-43fd-846f-9afaeae45eba",
   "metadata": {},
   "outputs": [],
   "source": [
    "fig.close()"
   ]
  },
  {
   "cell_type": "markdown",
   "id": "36ef0cd6-da07-4486-be4d-b9bb9fe81aba",
   "metadata": {},
   "source": [
    "# `ImageWidget` \n",
    "\n",
    "Explore 2D, 3D or 4D image data. Creates sliders & histogram-LUT tools."
   ]
  },
  {
   "cell_type": "code",
   "execution_count": null,
   "id": "cbfeb2fd-7b2e-458b-bff7-2af1c8e50f46",
   "metadata": {},
   "outputs": [],
   "source": [
    "video = iio.imread(\"imageio:cockatoo.mp4\")\n",
    "video.shape  # shape is [t, row, col, rgb]"
   ]
  },
  {
   "cell_type": "code",
   "execution_count": null,
   "id": "205fe717-3d72-4e0e-92f9-15856673ade4",
   "metadata": {},
   "outputs": [],
   "source": [
    "iw_video = fpl.ImageWidget(video, rgb=[True], figure_kwargs={\"size\": (700, 500)})\n",
    "iw_video.show()"
   ]
  },
  {
   "cell_type": "code",
   "execution_count": null,
   "id": "253989e8-7597-401d-846a-39b73d0a2c9b",
   "metadata": {},
   "outputs": [],
   "source": [
    "iw_video.close()"
   ]
  },
  {
   "cell_type": "code",
   "execution_count": null,
   "id": "b356879e-7090-419f-ac41-a31262f48edc",
   "metadata": {},
   "outputs": [],
   "source": [
    "data_3d = np.load(\"./zfish_test.npy\")\n",
    "data_3d.shape  # shape is [t, z, row, col]"
   ]
  },
  {
   "cell_type": "code",
   "execution_count": null,
   "id": "31a72736-aa77-437d-89bc-be7ec563b2b9",
   "metadata": {},
   "outputs": [],
   "source": [
    "iw_3d = fpl.ImageWidget(data_3d, cmap=\"gnuplot2\", figure_kwargs={\"size\": (500, 600)})\n",
    "\n",
    "iw_planes = fpl.ImageWidget([data_3d[:, i] for i in range(data_3d.shape[1])], cmap=\"gnuplot2\", figure_kwargs={\"size\": (600, 600)})\n",
    "\n",
    "HBox([iw_3d.show(), iw_planes.show()])"
   ]
  },
  {
   "cell_type": "markdown",
   "id": "e7859338-8162-408b-ac72-37e606057045",
   "metadata": {
    "tags": []
   },
   "source": [
    "# Line plots\n",
    "\n",
    "## 2D line plots"
   ]
  },
  {
   "cell_type": "markdown",
   "id": "a6fee1c2-4a24-4325-bca2-26e5a4bf6338",
   "metadata": {},
   "source": [
    "### First generate some data."
   ]
  },
  {
   "cell_type": "code",
   "execution_count": null,
   "id": "8e8280da-b421-43a5-a1a6-2a196a408e9a",
   "metadata": {},
   "outputs": [],
   "source": [
    "# linspace, create 100 evenly spaced x values from to 10pi\n",
    "xs = np.linspace(0, np.pi * 10, 100)\n",
    "# sine wave\n",
    "ys = np.sin(xs)\n",
    "sine = np.column_stack([xs, ys])\n",
    "\n",
    "# cosine wave\n",
    "ys = np.cos(xs)\n",
    "cosine = np.column_stack([xs, ys])"
   ]
  },
  {
   "cell_type": "markdown",
   "id": "fbb806e5-1565-4189-936c-b7cf147a59ee",
   "metadata": {},
   "source": [
    "### We will plot all of it on the same plot. Each line plot will be an individual Graphic, you can have any combination of graphics on a plot."
   ]
  },
  {
   "cell_type": "code",
   "execution_count": null,
   "id": "93a5d1e6-d019-4dd0-a0d1-25d1704ab7a7",
   "metadata": {},
   "outputs": [],
   "source": [
    "# Create a figure\n",
    "fig_lines = fpl.Figure(shape=(2, 1), size=(500, 800), names=[[\"lines\", \"zoomed\"]])\n",
    "\n",
    "# plot sine wave, use a single color\n",
    "sine_graphic = fig_lines[\"lines\"].add_line(data=sine, thickness=5, colors=\"magenta\")\n",
    "\n",
    "# you can also use colormaps for lines!\n",
    "cosine_graphic = fig_lines[\"lines\"].add_line(data=cosine, thickness=12, cmap=\"autumn\", offset=(0, 5, 0))\n",
    "\n",
    "# show the plot\n",
    "fig_lines.show(maintain_aspect=False, sidecar=True, sidecar_kwargs={\"title\": \"lines\"})"
   ]
  },
  {
   "cell_type": "markdown",
   "id": "dcd68796-c190-4c3f-8519-d73b98ff6367",
   "metadata": {},
   "source": [
    "### Colors behave like a numpy array!"
   ]
  },
  {
   "cell_type": "code",
   "execution_count": null,
   "id": "3c756e2a-971f-4689-a351-d1134095d353",
   "metadata": {},
   "outputs": [],
   "source": [
    "cosine_graphic.colors[:30:2] = \"cyan\""
   ]
  },
  {
   "cell_type": "code",
   "execution_count": null,
   "id": "f6c1907f-f2a6-48dd-a86c-414bece50a09",
   "metadata": {},
   "outputs": [],
   "source": [
    "# more complex slicing, set the blue value directly from an array\n",
    "cosine_graphic.colors[65:90, 0] = np.linspace(0, 1, 90-65)"
   ]
  },
  {
   "cell_type": "markdown",
   "id": "ff17474b-775e-4970-82d5-390d31f28020",
   "metadata": {},
   "source": [
    "## Graphic properties are evented\n",
    "\n",
    "https://fastplotlib.readthedocs.io/en/latest/user_guide/guide.html#events"
   ]
  },
  {
   "cell_type": "code",
   "execution_count": null,
   "id": "b57dd74f-373a-4f76-8c33-e2e9aac977b0",
   "metadata": {},
   "outputs": [],
   "source": [
    "@cosine_graphic.add_event_handler(\"colors\")\n",
    "def colors_changed(ev):\n",
    "    pprint(ev.info)"
   ]
  },
  {
   "cell_type": "code",
   "execution_count": null,
   "id": "5fca08a7-30dd-45fc-aa5b-97d9621ed65f",
   "metadata": {},
   "outputs": [],
   "source": [
    "cosine_graphic.colors[90:] = \"blue\""
   ]
  },
  {
   "cell_type": "markdown",
   "id": "1a3d34c6-8c17-4aa4-be72-51c0fec3fa73",
   "metadata": {},
   "source": [
    "**cmap and cmap transforms onto a line**"
   ]
  },
  {
   "cell_type": "code",
   "execution_count": null,
   "id": "d96637a0-fa3a-433d-b4e5-fca2df7543ed",
   "metadata": {},
   "outputs": [],
   "source": [
    "# assign colormaps to a line\n",
    "sine_graphic.cmap = \"seismic\""
   ]
  },
  {
   "cell_type": "code",
   "execution_count": null,
   "id": "28c07f33-3925-4699-a566-16a9be6c78e3",
   "metadata": {},
   "outputs": [],
   "source": [
    "# set a cmap_transform\n",
    "sine_graphic.cmap.transform = sine_graphic.data[:, 1]"
   ]
  },
  {
   "cell_type": "markdown",
   "id": "f0ef80af-f222-4c92-963d-7be0c3d7c911",
   "metadata": {},
   "source": [
    "# Selector tools\n",
    "\n",
    "https://fastplotlib.readthedocs.io/en/latest/user_guide/guide.html#selectors"
   ]
  },
  {
   "cell_type": "code",
   "execution_count": null,
   "id": "e1064099-1d76-4391-bcf0-ebf34675c614",
   "metadata": {},
   "outputs": [],
   "source": [
    "# Add a linear region selector to the sine graphic\n",
    "region_selector = sine_graphic.add_linear_region_selector()\n",
    "region_selector.offset = (0, 0, 2)\n",
    "\n",
    "# Add a line to the bottom \"zoomed\" subplot that displays the selected data\n",
    "fig_lines[\"zoomed\"].add_line(\n",
    "    region_selector.get_selected_data(),  # selected data\n",
    "    colors=sine_graphic.colors[region_selector.get_selected_indices()],  # same colors\n",
    "    name=\"selected-region\"\n",
    ")\n",
    "\n",
    "fig_lines[\"zoomed\"].auto_scale(maintain_aspect=False)\n",
    "\n",
    "@region_selector.add_event_handler(\"selection\")\n",
    "def update(ev):\n",
    "    \"\"\"\n",
    "    Updates the \"zoomed\" subplot with the selected region of the line\n",
    "    \"\"\"\n",
    "    data = ev.get_selected_data()\n",
    "    indices = ev.get_selected_indices()\n",
    "    \n",
    "    sub = fig_lines[\"zoomed\"][\"selected-region\"]\n",
    "    if sub.data[:].shape == data.shape:\n",
    "        sub.data = data\n",
    "        sub.colors = sine_graphic.colors[indices]\n",
    "    else:\n",
    "        fig_lines[\"zoomed\"].clear()\n",
    "        fig_lines[\"zoomed\"].add_line(\n",
    "            data, \n",
    "            colors=sine_graphic.colors[indices],\n",
    "            thickness=5,\n",
    "            name=\"selected-region\"\n",
    "        )\n",
    "\n",
    "    fig_lines[\"zoomed\"].auto_scale(maintain_aspect=False)"
   ]
  },
  {
   "cell_type": "code",
   "execution_count": null,
   "id": "8c8288ba-62a7-4307-86ac-133ca026868f",
   "metadata": {},
   "outputs": [],
   "source": [
    "fig_lines.close()"
   ]
  },
  {
   "cell_type": "markdown",
   "id": "a202b3d0-2a0b-450a-93d4-76d0a1129d1d",
   "metadata": {},
   "source": [
    "# Scatter plots"
   ]
  },
  {
   "cell_type": "code",
   "execution_count": null,
   "id": "9f989905-c074-41c1-92fd-c9788d896bcb",
   "metadata": {},
   "outputs": [],
   "source": [
    "# create a random distribution points\n",
    "n_points = 50_000\n",
    "\n",
    "# dimensions always have to be [n_points, xyz]\n",
    "dims = (n_points, 3)\n",
    "\n",
    "clouds_offset = 15\n",
    "\n",
    "# create some random clouds\n",
    "normal = np.random.normal(size=dims, scale=5)\n",
    "# stack the data into a single array\n",
    "cloud = np.vstack(\n",
    "    [\n",
    "        normal - clouds_offset,\n",
    "        normal,\n",
    "        normal + clouds_offset,\n",
    "    ]\n",
    ")\n",
    "\n",
    "# color each of them separately\n",
    "colors = [\"yellow\"] * n_points + [\"cyan\"] * n_points + [\"magenta\"] * n_points"
   ]
  },
  {
   "cell_type": "code",
   "execution_count": null,
   "id": "49ba0571-d4d2-406e-84de-ee0c75338435",
   "metadata": {},
   "outputs": [],
   "source": [
    "# create plot\n",
    "fig_scatter = fpl.Figure(size=(600, 500))\n",
    "subplot_scatter = fig_scatter[0, 0]\n",
    "\n",
    "scatter_graphic = subplot_scatter.add_scatter(data=cloud, sizes=3, colors=colors, alpha=0.1)\n",
    "\n",
    "fig_scatter.show(sidecar=True)"
   ]
  },
  {
   "cell_type": "markdown",
   "id": "b6e4a704-ee6b-4316-956e-acb4dcc1c6f2",
   "metadata": {},
   "source": [
    "### scatter graphic properties work similarly to line graphics"
   ]
  },
  {
   "cell_type": "code",
   "execution_count": null,
   "id": "8fa46ec0-8680-44f5-894c-559de3145932",
   "metadata": {},
   "outputs": [],
   "source": [
    "# half of the first cloud's points to red\n",
    "scatter_graphic.colors[:n_points:2] = \"r\""
   ]
  },
  {
   "cell_type": "code",
   "execution_count": null,
   "id": "a4084fce-78a2-48b3-9a0d-7b57c165c3c1",
   "metadata": {},
   "outputs": [],
   "source": [
    "# change the data, change y-values\n",
    "scatter_graphic.data[n_points:n_points * 2, 1] += 15"
   ]
  },
  {
   "cell_type": "code",
   "execution_count": null,
   "id": "f486083e-7c58-4255-ae1a-3fe5d9bfaeed",
   "metadata": {},
   "outputs": [],
   "source": [
    "# set x values directly but using an array\n",
    "scatter_graphic.data[n_points:n_points * 2, 0] = np.linspace(-40, 0, n_points)"
   ]
  },
  {
   "cell_type": "markdown",
   "id": "5f3e206d-97af-4e07-9969-94f2fdb41004",
   "metadata": {},
   "source": [
    "**Switch to a fly controller to move around the plot in 3D!**"
   ]
  },
  {
   "cell_type": "markdown",
   "id": "43ae13f1-d59b-4673-b0b3-669542b4c127",
   "metadata": {},
   "source": [
    "## Animation\n",
    "\n",
    "Move the cloud by a small delta on every render cycle"
   ]
  },
  {
   "cell_type": "code",
   "execution_count": null,
   "id": "50d2e96f-718c-4925-9e81-a92e81134741",
   "metadata": {},
   "outputs": [],
   "source": [
    "def update_points(subplot):\n",
    "    # move every point by a small amount\n",
    "    deltas = np.random.normal(size=scatter_graphic.data.value.shape, loc=0, scale=0.15)\n",
    "    scatter_graphic.data = scatter_graphic.data[:] + deltas\n",
    "\n",
    "subplot_scatter.add_animations(update_points)"
   ]
  },
  {
   "cell_type": "markdown",
   "id": "1592c6cd-d10a-4bda-ac4b-e06d428ffa1d",
   "metadata": {},
   "source": [
    "Another animation function to cycle the colors of one of the clouds"
   ]
  },
  {
   "cell_type": "code",
   "execution_count": null,
   "id": "fb0394a3-47d9-4620-a754-d04d5f313cc7",
   "metadata": {},
   "outputs": [],
   "source": [
    "i = 0.05\n",
    "def cycle_colors(subplot):\n",
    "    global i\n",
    "    # cycle the red values\n",
    "    scatter_graphic.colors[n_points * 2:, 0] = np.abs(np.sin(i))\n",
    "    scatter_graphic.colors[n_points * 2:, 1] = np.abs(np.sin(i + (np.pi / 4)))\n",
    "    scatter_graphic.colors[n_points * 2:, 2] = np.abs(np.cos(i))\n",
    "    i += 0.05\n",
    "\n",
    "subplot_scatter.add_animations(cycle_colors)"
   ]
  },
  {
   "cell_type": "code",
   "execution_count": null,
   "id": "a9ffdde4-4b8e-4ff7-98b3-464cf5462d20",
   "metadata": {},
   "outputs": [],
   "source": [
    "# close figure\n",
    "fig_scatter.close()"
   ]
  },
  {
   "cell_type": "code",
   "execution_count": null,
   "id": "4c82e3c8-434e-46f2-9e71-c9d9d1deae10",
   "metadata": {},
   "outputs": [],
   "source": []
  }
 ],
 "metadata": {
  "kernelspec": {
   "display_name": "Python 3 (ipykernel)",
   "language": "python",
   "name": "python3"
  },
  "language_info": {
   "codemirror_mode": {
    "name": "ipython",
    "version": 3
   },
   "file_extension": ".py",
   "mimetype": "text/x-python",
   "name": "python",
   "nbconvert_exporter": "python",
   "pygments_lexer": "ipython3",
   "version": "3.11.2"
  }
 },
 "nbformat": 4,
 "nbformat_minor": 5
}
